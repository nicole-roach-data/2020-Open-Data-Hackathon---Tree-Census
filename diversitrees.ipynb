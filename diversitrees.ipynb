{
 "cells": [
  {
   "cell_type": "code",
   "execution_count": null,
   "metadata": {},
   "outputs": [],
   "source": [
    "## Import Packages/Style Guides"
   ]
  },
  {
   "cell_type": "code",
   "execution_count": 1,
   "metadata": {},
   "outputs": [],
   "source": [
    "import pandas as pd\n",
    "import numpy as np\n",
    "pd.set_option('display.max_columns', 300)\n",
    "pd.set_option('display.max_rows', 300)\n",
    "from collections import Counter\n",
    "import matplotlib.pyplot as plt\n",
    "import re"
   ]
  },
  {
   "cell_type": "code",
   "execution_count": null,
   "metadata": {},
   "outputs": [],
   "source": [
    "## Import Data Sets"
   ]
  },
  {
   "cell_type": "code",
   "execution_count": 2,
   "metadata": {},
   "outputs": [],
   "source": [
    "df_95 = pd.read_csv('1995_Street_Tree_Census.csv')"
   ]
  },
  {
   "cell_type": "code",
   "execution_count": 30,
   "metadata": {},
   "outputs": [],
   "source": [
    "df_05 = pd.read_csv('2005_Street_Tree_Census.csv', low_memory=False)"
   ]
  },
  {
   "cell_type": "code",
   "execution_count": 4,
   "metadata": {},
   "outputs": [],
   "source": [
    "df_15 = pd.read_csv('2015StreetTreesCensus_TREES.csv')"
   ]
  },
  {
   "cell_type": "code",
   "execution_count": 5,
   "metadata": {},
   "outputs": [],
   "source": [
    "## Find Column Names & Standardize"
   ]
  },
  {
   "cell_type": "code",
   "execution_count": 8,
   "metadata": {},
   "outputs": [
    {
     "data": {
      "text/html": [
       "<div>\n",
       "<style scoped>\n",
       "    .dataframe tbody tr th:only-of-type {\n",
       "        vertical-align: middle;\n",
       "    }\n",
       "\n",
       "    .dataframe tbody tr th {\n",
       "        vertical-align: top;\n",
       "    }\n",
       "\n",
       "    .dataframe thead th {\n",
       "        text-align: right;\n",
       "    }\n",
       "</style>\n",
       "<table border=\"1\" class=\"dataframe\">\n",
       "  <thead>\n",
       "    <tr style=\"text-align: right;\">\n",
       "      <th></th>\n",
       "      <th>RecordId</th>\n",
       "      <th>Address</th>\n",
       "      <th>House_Number</th>\n",
       "      <th>Street</th>\n",
       "      <th>Postcode_Original</th>\n",
       "      <th>Community Board_Original</th>\n",
       "      <th>Site</th>\n",
       "      <th>Species</th>\n",
       "      <th>Diameter</th>\n",
       "      <th>Condition</th>\n",
       "      <th>Wires</th>\n",
       "      <th>Sidewalk_Condition</th>\n",
       "      <th>Support_Structure</th>\n",
       "      <th>Borough</th>\n",
       "      <th>X</th>\n",
       "      <th>Y</th>\n",
       "      <th>Longitude</th>\n",
       "      <th>Latitude</th>\n",
       "      <th>CB_New</th>\n",
       "      <th>Zip_New</th>\n",
       "      <th>CensusTract_2010</th>\n",
       "      <th>CensusBlock_2010</th>\n",
       "      <th>NTA_2010</th>\n",
       "      <th>SegmentID</th>\n",
       "      <th>Spc_Common</th>\n",
       "      <th>Spc_Latin</th>\n",
       "      <th>Location</th>\n",
       "      <th>Council District</th>\n",
       "      <th>BIN</th>\n",
       "      <th>BBL</th>\n",
       "    </tr>\n",
       "  </thead>\n",
       "  <tbody>\n",
       "    <tr>\n",
       "      <td>0</td>\n",
       "      <td>1</td>\n",
       "      <td>245 E 17 ST</td>\n",
       "      <td>245.0</td>\n",
       "      <td>E 17 ST</td>\n",
       "      <td>10003</td>\n",
       "      <td>106</td>\n",
       "      <td>Front</td>\n",
       "      <td>PLAC</td>\n",
       "      <td>8</td>\n",
       "      <td>Unknown</td>\n",
       "      <td>None</td>\n",
       "      <td>NaN</td>\n",
       "      <td>None</td>\n",
       "      <td>Manhattan</td>\n",
       "      <td>988618.9688</td>\n",
       "      <td>206893.764</td>\n",
       "      <td>-73.984235</td>\n",
       "      <td>40.734551</td>\n",
       "      <td>106</td>\n",
       "      <td>10003</td>\n",
       "      <td>48.0</td>\n",
       "      <td>2000.0</td>\n",
       "      <td>MN21</td>\n",
       "      <td>33134</td>\n",
       "      <td>LONDON PLANETREE</td>\n",
       "      <td>PLATANUS ACERIFOLIA</td>\n",
       "      <td>(40.734551, -73.984235)</td>\n",
       "      <td>2.0</td>\n",
       "      <td>1019566.0</td>\n",
       "      <td>1.008980e+09</td>\n",
       "    </tr>\n",
       "  </tbody>\n",
       "</table>\n",
       "</div>"
      ],
      "text/plain": [
       "   RecordId      Address  House_Number   Street  Postcode_Original  \\\n",
       "0         1  245 E 17 ST         245.0  E 17 ST              10003   \n",
       "\n",
       "   Community Board_Original   Site Species  Diameter Condition Wires  \\\n",
       "0                       106  Front    PLAC         8   Unknown  None   \n",
       "\n",
       "  Sidewalk_Condition Support_Structure    Borough            X           Y  \\\n",
       "0                NaN              None  Manhattan  988618.9688  206893.764   \n",
       "\n",
       "   Longitude   Latitude  CB_New  Zip_New  CensusTract_2010  CensusBlock_2010  \\\n",
       "0 -73.984235  40.734551     106    10003              48.0            2000.0   \n",
       "\n",
       "  NTA_2010  SegmentID        Spc_Common            Spc_Latin  \\\n",
       "0     MN21      33134  LONDON PLANETREE  PLATANUS ACERIFOLIA   \n",
       "\n",
       "                  Location  Council District        BIN           BBL  \n",
       "0  (40.734551, -73.984235)               2.0  1019566.0  1.008980e+09  "
      ]
     },
     "execution_count": 8,
     "metadata": {},
     "output_type": "execute_result"
    }
   ],
   "source": [
    "df_95.head(1)"
   ]
  },
  {
   "cell_type": "code",
   "execution_count": 11,
   "metadata": {},
   "outputs": [],
   "source": [
    "df_95 = df_95[['Spc_Common','Spc_Latin','Borough','Condition', 'Zip_New']]"
   ]
  },
  {
   "cell_type": "code",
   "execution_count": 13,
   "metadata": {},
   "outputs": [
    {
     "data": {
      "text/html": [
       "<div>\n",
       "<style scoped>\n",
       "    .dataframe tbody tr th:only-of-type {\n",
       "        vertical-align: middle;\n",
       "    }\n",
       "\n",
       "    .dataframe tbody tr th {\n",
       "        vertical-align: top;\n",
       "    }\n",
       "\n",
       "    .dataframe thead th {\n",
       "        text-align: right;\n",
       "    }\n",
       "</style>\n",
       "<table border=\"1\" class=\"dataframe\">\n",
       "  <thead>\n",
       "    <tr style=\"text-align: right;\">\n",
       "      <th></th>\n",
       "      <th>Spc_Common</th>\n",
       "      <th>Spc_Latin</th>\n",
       "      <th>Borough</th>\n",
       "      <th>Condition</th>\n",
       "      <th>Zip_New</th>\n",
       "    </tr>\n",
       "  </thead>\n",
       "  <tbody>\n",
       "    <tr>\n",
       "      <td>0</td>\n",
       "      <td>LONDON PLANETREE</td>\n",
       "      <td>PLATANUS ACERIFOLIA</td>\n",
       "      <td>Manhattan</td>\n",
       "      <td>Unknown</td>\n",
       "      <td>10003</td>\n",
       "    </tr>\n",
       "  </tbody>\n",
       "</table>\n",
       "</div>"
      ],
      "text/plain": [
       "         Spc_Common            Spc_Latin    Borough Condition  Zip_New\n",
       "0  LONDON PLANETREE  PLATANUS ACERIFOLIA  Manhattan   Unknown    10003"
      ]
     },
     "execution_count": 13,
     "metadata": {},
     "output_type": "execute_result"
    }
   ],
   "source": [
    "df_95.head(1)"
   ]
  },
  {
   "cell_type": "code",
   "execution_count": 16,
   "metadata": {},
   "outputs": [],
   "source": [
    "df_95.rename(columns = {'Spc_Common': 'Common_Name','Spc_Latin': 'Latin_Name', 'Condition': 'Health_Grade', 'Zip_New': 'Zip_Code'}, inplace = True)"
   ]
  },
  {
   "cell_type": "code",
   "execution_count": 18,
   "metadata": {},
   "outputs": [
    {
     "data": {
      "text/html": [
       "<div>\n",
       "<style scoped>\n",
       "    .dataframe tbody tr th:only-of-type {\n",
       "        vertical-align: middle;\n",
       "    }\n",
       "\n",
       "    .dataframe tbody tr th {\n",
       "        vertical-align: top;\n",
       "    }\n",
       "\n",
       "    .dataframe thead th {\n",
       "        text-align: right;\n",
       "    }\n",
       "</style>\n",
       "<table border=\"1\" class=\"dataframe\">\n",
       "  <thead>\n",
       "    <tr style=\"text-align: right;\">\n",
       "      <th></th>\n",
       "      <th>Common_Name</th>\n",
       "      <th>Latin_Name</th>\n",
       "      <th>Borough</th>\n",
       "      <th>Health_Grade</th>\n",
       "      <th>Zip_Code</th>\n",
       "    </tr>\n",
       "  </thead>\n",
       "  <tbody>\n",
       "    <tr>\n",
       "      <td>0</td>\n",
       "      <td>LONDON PLANETREE</td>\n",
       "      <td>PLATANUS ACERIFOLIA</td>\n",
       "      <td>Manhattan</td>\n",
       "      <td>Unknown</td>\n",
       "      <td>10003</td>\n",
       "    </tr>\n",
       "  </tbody>\n",
       "</table>\n",
       "</div>"
      ],
      "text/plain": [
       "        Common_Name           Latin_Name    Borough Health_Grade  Zip_Code\n",
       "0  LONDON PLANETREE  PLATANUS ACERIFOLIA  Manhattan      Unknown     10003"
      ]
     },
     "execution_count": 18,
     "metadata": {},
     "output_type": "execute_result"
    }
   ],
   "source": [
    "df_95.head(1)"
   ]
  },
  {
   "cell_type": "code",
   "execution_count": null,
   "metadata": {},
   "outputs": [],
   "source": [
    "df.rename(columns={'A': 'a', 'C': 'c'}))"
   ]
  },
  {
   "cell_type": "code",
   "execution_count": 31,
   "metadata": {},
   "outputs": [
    {
     "data": {
      "text/html": [
       "<div>\n",
       "<style scoped>\n",
       "    .dataframe tbody tr th:only-of-type {\n",
       "        vertical-align: middle;\n",
       "    }\n",
       "\n",
       "    .dataframe tbody tr th {\n",
       "        vertical-align: top;\n",
       "    }\n",
       "\n",
       "    .dataframe thead th {\n",
       "        text-align: right;\n",
       "    }\n",
       "</style>\n",
       "<table border=\"1\" class=\"dataframe\">\n",
       "  <thead>\n",
       "    <tr style=\"text-align: right;\">\n",
       "      <th></th>\n",
       "      <th>OBJECTID</th>\n",
       "      <th>cen_year</th>\n",
       "      <th>tree_dbh</th>\n",
       "      <th>address</th>\n",
       "      <th>tree_loc</th>\n",
       "      <th>pit_type</th>\n",
       "      <th>soil_lvl</th>\n",
       "      <th>status</th>\n",
       "      <th>spc_latin</th>\n",
       "      <th>spc_common</th>\n",
       "      <th>vert_other</th>\n",
       "      <th>vert_pgrd</th>\n",
       "      <th>vert_tgrd</th>\n",
       "      <th>vert_wall</th>\n",
       "      <th>horz_blck</th>\n",
       "      <th>horz_grate</th>\n",
       "      <th>horz_plant</th>\n",
       "      <th>horz_other</th>\n",
       "      <th>sidw_crack</th>\n",
       "      <th>sidw_raise</th>\n",
       "      <th>wire_htap</th>\n",
       "      <th>wire_prime</th>\n",
       "      <th>wire_2nd</th>\n",
       "      <th>wire_other</th>\n",
       "      <th>inf_canopy</th>\n",
       "      <th>inf_guard</th>\n",
       "      <th>inf_wires</th>\n",
       "      <th>inf_paving</th>\n",
       "      <th>inf_outlet</th>\n",
       "      <th>inf_shoes</th>\n",
       "      <th>inf_lights</th>\n",
       "      <th>inf_other</th>\n",
       "      <th>trunk_dmg</th>\n",
       "      <th>zipcode</th>\n",
       "      <th>zip_city</th>\n",
       "      <th>cb_num</th>\n",
       "      <th>borocode</th>\n",
       "      <th>boroname</th>\n",
       "      <th>cncldist</th>\n",
       "      <th>st_assem</th>\n",
       "      <th>st_senate</th>\n",
       "      <th>nta</th>\n",
       "      <th>nta_name</th>\n",
       "      <th>boro_ct</th>\n",
       "      <th>state</th>\n",
       "      <th>latitude</th>\n",
       "      <th>longitude</th>\n",
       "      <th>x_sp</th>\n",
       "      <th>y_sp</th>\n",
       "      <th>objectid_1</th>\n",
       "      <th>census tract</th>\n",
       "      <th>bin</th>\n",
       "      <th>bbl</th>\n",
       "      <th>Location 1</th>\n",
       "    </tr>\n",
       "  </thead>\n",
       "  <tbody>\n",
       "    <tr>\n",
       "      <td>0</td>\n",
       "      <td>592373</td>\n",
       "      <td>2005</td>\n",
       "      <td>6</td>\n",
       "      <td>1139 57 STREET</td>\n",
       "      <td>Front</td>\n",
       "      <td>Sidewalk Pit</td>\n",
       "      <td>Level</td>\n",
       "      <td>Good</td>\n",
       "      <td>PYRUS CALLERYANA</td>\n",
       "      <td>PEAR, CALLERY</td>\n",
       "      <td>No</td>\n",
       "      <td>No</td>\n",
       "      <td>No</td>\n",
       "      <td>No</td>\n",
       "      <td>No</td>\n",
       "      <td>No</td>\n",
       "      <td>Yes</td>\n",
       "      <td>No</td>\n",
       "      <td>No</td>\n",
       "      <td>No</td>\n",
       "      <td>No</td>\n",
       "      <td>Yes</td>\n",
       "      <td>No</td>\n",
       "      <td>No</td>\n",
       "      <td>No</td>\n",
       "      <td>No</td>\n",
       "      <td>No</td>\n",
       "      <td>No</td>\n",
       "      <td>No</td>\n",
       "      <td>No</td>\n",
       "      <td>No</td>\n",
       "      <td>No</td>\n",
       "      <td>None</td>\n",
       "      <td>11219</td>\n",
       "      <td>Brooklyn</td>\n",
       "      <td>312</td>\n",
       "      <td>3</td>\n",
       "      <td>Brooklyn</td>\n",
       "      <td>44</td>\n",
       "      <td>48</td>\n",
       "      <td>17</td>\n",
       "      <td>BK88</td>\n",
       "      <td>Borough Park</td>\n",
       "      <td>3021600.0</td>\n",
       "      <td>New York</td>\n",
       "      <td>40.632653</td>\n",
       "      <td>-74.000245</td>\n",
       "      <td>984182</td>\n",
       "      <td>169769</td>\n",
       "      <td>0</td>\n",
       "      <td>216.0</td>\n",
       "      <td>3140038.0</td>\n",
       "      <td>3.056890e+09</td>\n",
       "      <td>(40.63265321, -74.00024499)</td>\n",
       "    </tr>\n",
       "  </tbody>\n",
       "</table>\n",
       "</div>"
      ],
      "text/plain": [
       "   OBJECTID  cen_year  tree_dbh         address tree_loc      pit_type  \\\n",
       "0    592373      2005         6  1139 57 STREET    Front  Sidewalk Pit   \n",
       "\n",
       "  soil_lvl status         spc_latin     spc_common vert_other vert_pgrd  \\\n",
       "0    Level   Good  PYRUS CALLERYANA  PEAR, CALLERY         No        No   \n",
       "\n",
       "  vert_tgrd vert_wall horz_blck horz_grate horz_plant horz_other sidw_crack  \\\n",
       "0        No        No        No         No        Yes         No         No   \n",
       "\n",
       "  sidw_raise wire_htap wire_prime wire_2nd wire_other inf_canopy inf_guard  \\\n",
       "0         No        No        Yes       No         No         No        No   \n",
       "\n",
       "  inf_wires inf_paving inf_outlet inf_shoes inf_lights inf_other trunk_dmg  \\\n",
       "0        No         No         No        No         No        No      None   \n",
       "\n",
       "   zipcode  zip_city  cb_num  borocode  boroname  cncldist  st_assem  \\\n",
       "0    11219  Brooklyn     312         3  Brooklyn        44        48   \n",
       "\n",
       "   st_senate   nta      nta_name    boro_ct     state   latitude  longitude  \\\n",
       "0         17  BK88  Borough Park  3021600.0  New York  40.632653 -74.000245   \n",
       "\n",
       "     x_sp    y_sp  objectid_1  census tract        bin           bbl  \\\n",
       "0  984182  169769           0         216.0  3140038.0  3.056890e+09   \n",
       "\n",
       "                    Location 1  \n",
       "0  (40.63265321, -74.00024499)  "
      ]
     },
     "execution_count": 31,
     "metadata": {},
     "output_type": "execute_result"
    }
   ],
   "source": [
    "df_05.head(1)"
   ]
  },
  {
   "cell_type": "code",
   "execution_count": 32,
   "metadata": {},
   "outputs": [],
   "source": [
    "df_05 = df_05[['spc_common','spc_latin','boroname','zip_city','zipcode', 'nta_name', 'status']]"
   ]
  },
  {
   "cell_type": "code",
   "execution_count": 33,
   "metadata": {},
   "outputs": [
    {
     "data": {
      "text/html": [
       "<div>\n",
       "<style scoped>\n",
       "    .dataframe tbody tr th:only-of-type {\n",
       "        vertical-align: middle;\n",
       "    }\n",
       "\n",
       "    .dataframe tbody tr th {\n",
       "        vertical-align: top;\n",
       "    }\n",
       "\n",
       "    .dataframe thead th {\n",
       "        text-align: right;\n",
       "    }\n",
       "</style>\n",
       "<table border=\"1\" class=\"dataframe\">\n",
       "  <thead>\n",
       "    <tr style=\"text-align: right;\">\n",
       "      <th></th>\n",
       "      <th>spc_common</th>\n",
       "      <th>spc_latin</th>\n",
       "      <th>boroname</th>\n",
       "      <th>zip_city</th>\n",
       "      <th>zipcode</th>\n",
       "      <th>nta_name</th>\n",
       "      <th>status</th>\n",
       "    </tr>\n",
       "  </thead>\n",
       "  <tbody>\n",
       "    <tr>\n",
       "      <td>0</td>\n",
       "      <td>PEAR, CALLERY</td>\n",
       "      <td>PYRUS CALLERYANA</td>\n",
       "      <td>Brooklyn</td>\n",
       "      <td>Brooklyn</td>\n",
       "      <td>11219</td>\n",
       "      <td>Borough Park</td>\n",
       "      <td>Good</td>\n",
       "    </tr>\n",
       "  </tbody>\n",
       "</table>\n",
       "</div>"
      ],
      "text/plain": [
       "      spc_common         spc_latin  boroname  zip_city  zipcode      nta_name  \\\n",
       "0  PEAR, CALLERY  PYRUS CALLERYANA  Brooklyn  Brooklyn    11219  Borough Park   \n",
       "\n",
       "  status  \n",
       "0   Good  "
      ]
     },
     "execution_count": 33,
     "metadata": {},
     "output_type": "execute_result"
    }
   ],
   "source": [
    "df_05.head(1)"
   ]
  },
  {
   "cell_type": "code",
   "execution_count": 28,
   "metadata": {},
   "outputs": [],
   "source": [
    "df_05 = df_05.rename(columns = {'spc_common': 'Common_Name','spc_latin': 'Latin_Name', 'boroname': 'Borough', 'zipcode': 'Zip_Code', 'nta_name': 'Neighborhood', 'status': 'Health_Grade'}, inplace = True)"
   ]
  },
  {
   "cell_type": "code",
   "execution_count": 36,
   "metadata": {},
   "outputs": [],
   "source": [
    "df_05.rename(columns={'spc_common': 'Common_Name','spc_latin': 'Latin_Name','boroname': 'Borough_Name','zip_city': 'Zip_City','zipcode': 'Zip_Code', 'nta_name': 'Neighborhood', 'status': 'Health_Grade'}, inplace = True)"
   ]
  },
  {
   "cell_type": "code",
   "execution_count": 37,
   "metadata": {},
   "outputs": [
    {
     "data": {
      "text/html": [
       "<div>\n",
       "<style scoped>\n",
       "    .dataframe tbody tr th:only-of-type {\n",
       "        vertical-align: middle;\n",
       "    }\n",
       "\n",
       "    .dataframe tbody tr th {\n",
       "        vertical-align: top;\n",
       "    }\n",
       "\n",
       "    .dataframe thead th {\n",
       "        text-align: right;\n",
       "    }\n",
       "</style>\n",
       "<table border=\"1\" class=\"dataframe\">\n",
       "  <thead>\n",
       "    <tr style=\"text-align: right;\">\n",
       "      <th></th>\n",
       "      <th>Common_Name</th>\n",
       "      <th>Latin_Name</th>\n",
       "      <th>Borough_Name</th>\n",
       "      <th>Zip_City</th>\n",
       "      <th>Zip_Code</th>\n",
       "      <th>Neighborhood</th>\n",
       "      <th>Health_Grade</th>\n",
       "    </tr>\n",
       "  </thead>\n",
       "  <tbody>\n",
       "    <tr>\n",
       "      <td>0</td>\n",
       "      <td>PEAR, CALLERY</td>\n",
       "      <td>PYRUS CALLERYANA</td>\n",
       "      <td>Brooklyn</td>\n",
       "      <td>Brooklyn</td>\n",
       "      <td>11219</td>\n",
       "      <td>Borough Park</td>\n",
       "      <td>Good</td>\n",
       "    </tr>\n",
       "  </tbody>\n",
       "</table>\n",
       "</div>"
      ],
      "text/plain": [
       "     Common_Name        Latin_Name Borough_Name  Zip_City  Zip_Code  \\\n",
       "0  PEAR, CALLERY  PYRUS CALLERYANA     Brooklyn  Brooklyn     11219   \n",
       "\n",
       "   Neighborhood Health_Grade  \n",
       "0  Borough Park         Good  "
      ]
     },
     "execution_count": 37,
     "metadata": {},
     "output_type": "execute_result"
    }
   ],
   "source": [
    "df_05.head(1)"
   ]
  },
  {
   "cell_type": "code",
   "execution_count": 38,
   "metadata": {},
   "outputs": [
    {
     "data": {
      "text/html": [
       "<div>\n",
       "<style scoped>\n",
       "    .dataframe tbody tr th:only-of-type {\n",
       "        vertical-align: middle;\n",
       "    }\n",
       "\n",
       "    .dataframe tbody tr th {\n",
       "        vertical-align: top;\n",
       "    }\n",
       "\n",
       "    .dataframe thead th {\n",
       "        text-align: right;\n",
       "    }\n",
       "</style>\n",
       "<table border=\"1\" class=\"dataframe\">\n",
       "  <thead>\n",
       "    <tr style=\"text-align: right;\">\n",
       "      <th></th>\n",
       "      <th>created_at</th>\n",
       "      <th>tree_id</th>\n",
       "      <th>block_id</th>\n",
       "      <th>the_geom</th>\n",
       "      <th>tree_dbh</th>\n",
       "      <th>stump_diam</th>\n",
       "      <th>curb_loc</th>\n",
       "      <th>status</th>\n",
       "      <th>health</th>\n",
       "      <th>spc_latin</th>\n",
       "      <th>spc_common</th>\n",
       "      <th>steward</th>\n",
       "      <th>guards</th>\n",
       "      <th>sidewalk</th>\n",
       "      <th>user_type</th>\n",
       "      <th>problems</th>\n",
       "      <th>root_stone</th>\n",
       "      <th>root_grate</th>\n",
       "      <th>root_other</th>\n",
       "      <th>trnk_wire</th>\n",
       "      <th>trnk_light</th>\n",
       "      <th>trnk_other</th>\n",
       "      <th>brnch_ligh</th>\n",
       "      <th>brnch_shoe</th>\n",
       "      <th>brnch_othe</th>\n",
       "      <th>address</th>\n",
       "      <th>zipcode</th>\n",
       "      <th>zip_city</th>\n",
       "      <th>cb_num</th>\n",
       "      <th>borocode</th>\n",
       "      <th>boroname</th>\n",
       "      <th>cncldist</th>\n",
       "      <th>st_assem</th>\n",
       "      <th>st_senate</th>\n",
       "      <th>nta</th>\n",
       "      <th>nta_name</th>\n",
       "      <th>boro_ct</th>\n",
       "      <th>state</th>\n",
       "      <th>Latitude</th>\n",
       "      <th>longitude</th>\n",
       "      <th>x_sp</th>\n",
       "      <th>y_sp</th>\n",
       "    </tr>\n",
       "  </thead>\n",
       "  <tbody>\n",
       "    <tr>\n",
       "      <td>0</td>\n",
       "      <td>08/27/2015</td>\n",
       "      <td>180683</td>\n",
       "      <td>348711</td>\n",
       "      <td>POINT (-73.84421521958048 40.723091773924274)</td>\n",
       "      <td>3</td>\n",
       "      <td>0</td>\n",
       "      <td>OnCurb</td>\n",
       "      <td>Alive</td>\n",
       "      <td>Fair</td>\n",
       "      <td>Acer rubrum</td>\n",
       "      <td>red maple</td>\n",
       "      <td>None</td>\n",
       "      <td>None</td>\n",
       "      <td>NoDamage</td>\n",
       "      <td>TreesCount Staff</td>\n",
       "      <td>None</td>\n",
       "      <td>No</td>\n",
       "      <td>No</td>\n",
       "      <td>No</td>\n",
       "      <td>No</td>\n",
       "      <td>No</td>\n",
       "      <td>No</td>\n",
       "      <td>No</td>\n",
       "      <td>No</td>\n",
       "      <td>No</td>\n",
       "      <td>108-005 70 AVENUE</td>\n",
       "      <td>11375</td>\n",
       "      <td>Forest Hills</td>\n",
       "      <td>406</td>\n",
       "      <td>4</td>\n",
       "      <td>Queens</td>\n",
       "      <td>29</td>\n",
       "      <td>28</td>\n",
       "      <td>16</td>\n",
       "      <td>QN17</td>\n",
       "      <td>Forest Hills</td>\n",
       "      <td>4073900</td>\n",
       "      <td>New York</td>\n",
       "      <td>40.723092</td>\n",
       "      <td>-73.844215</td>\n",
       "      <td>1.027431e+06</td>\n",
       "      <td>202756.768749</td>\n",
       "    </tr>\n",
       "  </tbody>\n",
       "</table>\n",
       "</div>"
      ],
      "text/plain": [
       "   created_at  tree_id  block_id  \\\n",
       "0  08/27/2015   180683    348711   \n",
       "\n",
       "                                        the_geom  tree_dbh  stump_diam  \\\n",
       "0  POINT (-73.84421521958048 40.723091773924274)         3           0   \n",
       "\n",
       "  curb_loc status health    spc_latin spc_common steward guards  sidewalk  \\\n",
       "0   OnCurb  Alive   Fair  Acer rubrum  red maple    None   None  NoDamage   \n",
       "\n",
       "          user_type problems root_stone root_grate root_other trnk_wire  \\\n",
       "0  TreesCount Staff     None         No         No         No        No   \n",
       "\n",
       "  trnk_light trnk_other brnch_ligh brnch_shoe brnch_othe            address  \\\n",
       "0         No         No         No         No         No  108-005 70 AVENUE   \n",
       "\n",
       "   zipcode      zip_city  cb_num  borocode boroname  cncldist  st_assem  \\\n",
       "0    11375  Forest Hills     406         4   Queens        29        28   \n",
       "\n",
       "   st_senate   nta      nta_name  boro_ct     state   Latitude  longitude  \\\n",
       "0         16  QN17  Forest Hills  4073900  New York  40.723092 -73.844215   \n",
       "\n",
       "           x_sp           y_sp  \n",
       "0  1.027431e+06  202756.768749  "
      ]
     },
     "execution_count": 38,
     "metadata": {},
     "output_type": "execute_result"
    }
   ],
   "source": [
    "df_15.head(1)"
   ]
  },
  {
   "cell_type": "code",
   "execution_count": 46,
   "metadata": {},
   "outputs": [],
   "source": [
    "df_15 = df_15[['status','health','spc_latin','spc_common','zipcode', 'nta_name', 'boroname']]"
   ]
  },
  {
   "cell_type": "code",
   "execution_count": 48,
   "metadata": {},
   "outputs": [
    {
     "data": {
      "text/html": [
       "<div>\n",
       "<style scoped>\n",
       "    .dataframe tbody tr th:only-of-type {\n",
       "        vertical-align: middle;\n",
       "    }\n",
       "\n",
       "    .dataframe tbody tr th {\n",
       "        vertical-align: top;\n",
       "    }\n",
       "\n",
       "    .dataframe thead th {\n",
       "        text-align: right;\n",
       "    }\n",
       "</style>\n",
       "<table border=\"1\" class=\"dataframe\">\n",
       "  <thead>\n",
       "    <tr style=\"text-align: right;\">\n",
       "      <th></th>\n",
       "      <th>status</th>\n",
       "      <th>health</th>\n",
       "      <th>spc_latin</th>\n",
       "      <th>spc_common</th>\n",
       "      <th>zipcode</th>\n",
       "      <th>nta_name</th>\n",
       "      <th>boroname</th>\n",
       "    </tr>\n",
       "  </thead>\n",
       "  <tbody>\n",
       "    <tr>\n",
       "      <td>0</td>\n",
       "      <td>Alive</td>\n",
       "      <td>Fair</td>\n",
       "      <td>Acer rubrum</td>\n",
       "      <td>red maple</td>\n",
       "      <td>11375</td>\n",
       "      <td>Forest Hills</td>\n",
       "      <td>Queens</td>\n",
       "    </tr>\n",
       "  </tbody>\n",
       "</table>\n",
       "</div>"
      ],
      "text/plain": [
       "  status health    spc_latin spc_common  zipcode      nta_name boroname\n",
       "0  Alive   Fair  Acer rubrum  red maple    11375  Forest Hills   Queens"
      ]
     },
     "execution_count": 48,
     "metadata": {},
     "output_type": "execute_result"
    }
   ],
   "source": [
    "df_15.head(1)"
   ]
  },
  {
   "cell_type": "code",
   "execution_count": 49,
   "metadata": {},
   "outputs": [],
   "source": [
    "df_15.rename(columns={'spc_common': 'Common_Name','spc_latin': 'Latin_Name','boroname': 'Borough_Name','zipcode': 'Zip_Code', 'nta_name': 'Neighborhood', 'health': 'Health_Grade', 'status': 'Living_Status'}, inplace = True)"
   ]
  },
  {
   "cell_type": "code",
   "execution_count": 50,
   "metadata": {},
   "outputs": [
    {
     "data": {
      "text/html": [
       "<div>\n",
       "<style scoped>\n",
       "    .dataframe tbody tr th:only-of-type {\n",
       "        vertical-align: middle;\n",
       "    }\n",
       "\n",
       "    .dataframe tbody tr th {\n",
       "        vertical-align: top;\n",
       "    }\n",
       "\n",
       "    .dataframe thead th {\n",
       "        text-align: right;\n",
       "    }\n",
       "</style>\n",
       "<table border=\"1\" class=\"dataframe\">\n",
       "  <thead>\n",
       "    <tr style=\"text-align: right;\">\n",
       "      <th></th>\n",
       "      <th>Living_Status</th>\n",
       "      <th>Health_Grade</th>\n",
       "      <th>Latin_Name</th>\n",
       "      <th>Common_Name</th>\n",
       "      <th>Zip_Code</th>\n",
       "      <th>Neighborhood</th>\n",
       "      <th>Borough_Name</th>\n",
       "    </tr>\n",
       "  </thead>\n",
       "  <tbody>\n",
       "    <tr>\n",
       "      <td>0</td>\n",
       "      <td>Alive</td>\n",
       "      <td>Fair</td>\n",
       "      <td>Acer rubrum</td>\n",
       "      <td>red maple</td>\n",
       "      <td>11375</td>\n",
       "      <td>Forest Hills</td>\n",
       "      <td>Queens</td>\n",
       "    </tr>\n",
       "  </tbody>\n",
       "</table>\n",
       "</div>"
      ],
      "text/plain": [
       "  Living_Status Health_Grade   Latin_Name Common_Name  Zip_Code  Neighborhood  \\\n",
       "0         Alive         Fair  Acer rubrum   red maple     11375  Forest Hills   \n",
       "\n",
       "  Borough_Name  \n",
       "0       Queens  "
      ]
     },
     "execution_count": 50,
     "metadata": {},
     "output_type": "execute_result"
    }
   ],
   "source": [
    "df_15.head(1)"
   ]
  },
  {
   "cell_type": "code",
   "execution_count": null,
   "metadata": {},
   "outputs": [],
   "source": [
    "## Defining Health"
   ]
  },
  {
   "cell_type": "code",
   "execution_count": 44,
   "metadata": {},
   "outputs": [
    {
     "data": {
      "text/plain": [
       "Alive    652173\n",
       "Stump     17654\n",
       "Dead      13961\n",
       "Name: status, dtype: int64"
      ]
     },
     "execution_count": 44,
     "metadata": {},
     "output_type": "execute_result"
    }
   ],
   "source": [
    "pd.value_counts(df_15['status'])"
   ]
  },
  {
   "cell_type": "code",
   "execution_count": 40,
   "metadata": {},
   "outputs": [
    {
     "data": {
      "text/plain": [
       "Good    528850\n",
       "Fair     96504\n",
       "Poor     26818\n",
       "Name: health, dtype: int64"
      ]
     },
     "execution_count": 40,
     "metadata": {},
     "output_type": "execute_result"
    }
   ],
   "source": [
    "pd.value_counts(df_15['health'])"
   ]
  },
  {
   "cell_type": "code",
   "execution_count": 42,
   "metadata": {},
   "outputs": [
    {
     "data": {
      "text/plain": [
       "Good         393464\n",
       "Excellent    141657\n",
       "Poor          49131\n",
       "Dead           8120\n",
       "Name: Health_Grade, dtype: int64"
      ]
     },
     "execution_count": 42,
     "metadata": {},
     "output_type": "execute_result"
    }
   ],
   "source": [
    "pd.value_counts(df_05['Health_Grade'])"
   ]
  },
  {
   "cell_type": "code",
   "execution_count": 43,
   "metadata": {},
   "outputs": [
    {
     "data": {
      "text/plain": [
       "Good              332562\n",
       "Excellent         100286\n",
       "Poor               38571\n",
       "Planting Space     15231\n",
       "Dead               12859\n",
       "Unknown            10761\n",
       "Stump               6087\n",
       "Fair                 327\n",
       "Shaft                303\n",
       "Critical               2\n",
       "Name: Health_Grade, dtype: int64"
      ]
     },
     "execution_count": 43,
     "metadata": {},
     "output_type": "execute_result"
    }
   ],
   "source": [
    "pd.value_counts(df_95['Health_Grade'])"
   ]
  },
  {
   "cell_type": "code",
   "execution_count": 51,
   "metadata": {},
   "outputs": [],
   "source": [
    "# In order to compare across different censuses the ratings must be standardized.\n",
    "# Also to make things more comparable anything already dead/imminently dying will\n",
    "# not be counted across as viable.\n",
    "\n",
    "# The following for the '95 census will not be counted at all\n",
    "# /Critical - Shaft - Stump - Planting Space - Dead\n",
    "\n",
    "# The following for the '95 census will be counted as Fair\n",
    "# /Unknown - Fair"
   ]
  },
  {
   "cell_type": "code",
   "execution_count": null,
   "metadata": {},
   "outputs": [],
   "source": [
    "df.replace({'A': 0, 'B': 5}, 100)"
   ]
  },
  {
   "cell_type": "code",
   "execution_count": 52,
   "metadata": {},
   "outputs": [],
   "source": [
    "df_95 = df_95.replace({'Good': 'Good', 'Excellent': 'Good', 'Poor': 'Poor', 'Unknown': 'Fair'})"
   ]
  },
  {
   "cell_type": "code",
   "execution_count": 53,
   "metadata": {},
   "outputs": [
    {
     "data": {
      "text/html": [
       "<div>\n",
       "<style scoped>\n",
       "    .dataframe tbody tr th:only-of-type {\n",
       "        vertical-align: middle;\n",
       "    }\n",
       "\n",
       "    .dataframe tbody tr th {\n",
       "        vertical-align: top;\n",
       "    }\n",
       "\n",
       "    .dataframe thead th {\n",
       "        text-align: right;\n",
       "    }\n",
       "</style>\n",
       "<table border=\"1\" class=\"dataframe\">\n",
       "  <thead>\n",
       "    <tr style=\"text-align: right;\">\n",
       "      <th></th>\n",
       "      <th>Common_Name</th>\n",
       "      <th>Latin_Name</th>\n",
       "      <th>Borough</th>\n",
       "      <th>Health_Grade</th>\n",
       "      <th>Zip_Code</th>\n",
       "    </tr>\n",
       "  </thead>\n",
       "  <tbody>\n",
       "    <tr>\n",
       "      <td>0</td>\n",
       "      <td>LONDON PLANETREE</td>\n",
       "      <td>PLATANUS ACERIFOLIA</td>\n",
       "      <td>Manhattan</td>\n",
       "      <td>Fair</td>\n",
       "      <td>10003</td>\n",
       "    </tr>\n",
       "    <tr>\n",
       "      <td>1</td>\n",
       "      <td>MAPLE, NORWAY</td>\n",
       "      <td>ACER PLATANOIDES</td>\n",
       "      <td>Manhattan</td>\n",
       "      <td>Good</td>\n",
       "      <td>10013</td>\n",
       "    </tr>\n",
       "    <tr>\n",
       "      <td>2</td>\n",
       "      <td>MAPLE, NORWAY</td>\n",
       "      <td>ACER PLATANOIDES</td>\n",
       "      <td>Manhattan</td>\n",
       "      <td>Good</td>\n",
       "      <td>10013</td>\n",
       "    </tr>\n",
       "    <tr>\n",
       "      <td>3</td>\n",
       "      <td>MAPLE, NORWAY</td>\n",
       "      <td>ACER PLATANOIDES</td>\n",
       "      <td>Manhattan</td>\n",
       "      <td>Good</td>\n",
       "      <td>10013</td>\n",
       "    </tr>\n",
       "    <tr>\n",
       "      <td>4</td>\n",
       "      <td>MAPLE, NORWAY</td>\n",
       "      <td>ACER PLATANOIDES</td>\n",
       "      <td>Manhattan</td>\n",
       "      <td>Good</td>\n",
       "      <td>10013</td>\n",
       "    </tr>\n",
       "  </tbody>\n",
       "</table>\n",
       "</div>"
      ],
      "text/plain": [
       "        Common_Name           Latin_Name    Borough Health_Grade  Zip_Code\n",
       "0  LONDON PLANETREE  PLATANUS ACERIFOLIA  Manhattan         Fair     10003\n",
       "1     MAPLE, NORWAY     ACER PLATANOIDES  Manhattan         Good     10013\n",
       "2     MAPLE, NORWAY     ACER PLATANOIDES  Manhattan         Good     10013\n",
       "3     MAPLE, NORWAY     ACER PLATANOIDES  Manhattan         Good     10013\n",
       "4     MAPLE, NORWAY     ACER PLATANOIDES  Manhattan         Good     10013"
      ]
     },
     "execution_count": 53,
     "metadata": {},
     "output_type": "execute_result"
    }
   ],
   "source": [
    "df_95.head()"
   ]
  },
  {
   "cell_type": "code",
   "execution_count": 56,
   "metadata": {},
   "outputs": [
    {
     "data": {
      "text/plain": [
       "Good              432848\n",
       "Poor               38571\n",
       "Planting Space     15231\n",
       "Dead               12859\n",
       "Fair               11088\n",
       "Stump               6087\n",
       "Shaft                303\n",
       "Critical               2\n",
       "Name: Health_Grade, dtype: int64"
      ]
     },
     "execution_count": 56,
     "metadata": {},
     "output_type": "execute_result"
    }
   ],
   "source": [
    "pd.value_counts(df_95['Health_Grade'])"
   ]
  },
  {
   "cell_type": "code",
   "execution_count": 57,
   "metadata": {},
   "outputs": [],
   "source": [
    "drop95_vals = ['Planting Space', 'Dead', 'Stump', 'Shaft', 'Critical']"
   ]
  },
  {
   "cell_type": "code",
   "execution_count": 58,
   "metadata": {},
   "outputs": [],
   "source": [
    "df_95 = df_95.loc[~df_95['Health_Grade'].isin(drop95_vals)]"
   ]
  },
  {
   "cell_type": "code",
   "execution_count": 61,
   "metadata": {
    "scrolled": true
   },
   "outputs": [
    {
     "data": {
      "text/html": [
       "<div>\n",
       "<style scoped>\n",
       "    .dataframe tbody tr th:only-of-type {\n",
       "        vertical-align: middle;\n",
       "    }\n",
       "\n",
       "    .dataframe tbody tr th {\n",
       "        vertical-align: top;\n",
       "    }\n",
       "\n",
       "    .dataframe thead th {\n",
       "        text-align: right;\n",
       "    }\n",
       "</style>\n",
       "<table border=\"1\" class=\"dataframe\">\n",
       "  <thead>\n",
       "    <tr style=\"text-align: right;\">\n",
       "      <th></th>\n",
       "      <th>Common_Name</th>\n",
       "      <th>Latin_Name</th>\n",
       "      <th>Borough</th>\n",
       "      <th>Health_Grade</th>\n",
       "      <th>Zip_Code</th>\n",
       "    </tr>\n",
       "  </thead>\n",
       "  <tbody>\n",
       "    <tr>\n",
       "      <td>0</td>\n",
       "      <td>LONDON PLANETREE</td>\n",
       "      <td>PLATANUS ACERIFOLIA</td>\n",
       "      <td>Manhattan</td>\n",
       "      <td>Fair</td>\n",
       "      <td>10003</td>\n",
       "    </tr>\n",
       "  </tbody>\n",
       "</table>\n",
       "</div>"
      ],
      "text/plain": [
       "        Common_Name           Latin_Name    Borough Health_Grade  Zip_Code\n",
       "0  LONDON PLANETREE  PLATANUS ACERIFOLIA  Manhattan         Fair     10003"
      ]
     },
     "execution_count": 61,
     "metadata": {},
     "output_type": "execute_result"
    }
   ],
   "source": [
    "df_95.head(1)"
   ]
  },
  {
   "cell_type": "code",
   "execution_count": 62,
   "metadata": {},
   "outputs": [
    {
     "data": {
      "text/plain": [
       "Good    432848\n",
       "Poor     38571\n",
       "Fair     11088\n",
       "Name: Health_Grade, dtype: int64"
      ]
     },
     "execution_count": 62,
     "metadata": {},
     "output_type": "execute_result"
    }
   ],
   "source": [
    "pd.value_counts(df_95['Health_Grade'])"
   ]
  },
  {
   "cell_type": "code",
   "execution_count": null,
   "metadata": {},
   "outputs": [],
   "source": [
    "# In order to compare across different censuses the ratings must be standardized.\n",
    "# Also to make things more comparable anything already dead/imminently dying will\n",
    "# not be counted across as viable and removed from the set.\n",
    "\n",
    "# The following for the '05 census will not be counted at all\n",
    "# /Dead\n",
    "\n",
    "# The following for the '05 census will be counted as Fair\n",
    "# /Good - Fair"
   ]
  },
  {
   "cell_type": "code",
   "execution_count": 63,
   "metadata": {},
   "outputs": [],
   "source": [
    "df_05 = df_05.replace({'Good': 'Fair', 'Excellent': 'Good', 'Poor': 'Poor'})"
   ]
  },
  {
   "cell_type": "code",
   "execution_count": 64,
   "metadata": {},
   "outputs": [],
   "source": [
    "drop05_vals = ['Dead']"
   ]
  },
  {
   "cell_type": "code",
   "execution_count": 65,
   "metadata": {},
   "outputs": [],
   "source": [
    "df_05 = df_05.loc[~df_05['Health_Grade'].isin(drop05_vals)]"
   ]
  },
  {
   "cell_type": "code",
   "execution_count": 66,
   "metadata": {
    "scrolled": true
   },
   "outputs": [
    {
     "data": {
      "text/plain": [
       "Fair    393464\n",
       "Good    141657\n",
       "Poor     49131\n",
       "Name: Health_Grade, dtype: int64"
      ]
     },
     "execution_count": 66,
     "metadata": {},
     "output_type": "execute_result"
    }
   ],
   "source": [
    "pd.value_counts(df_05['Health_Grade'])"
   ]
  },
  {
   "cell_type": "code",
   "execution_count": 67,
   "metadata": {},
   "outputs": [
    {
     "data": {
      "text/plain": [
       "Good    528850\n",
       "Fair     96504\n",
       "Poor     26818\n",
       "Name: Health_Grade, dtype: int64"
      ]
     },
     "execution_count": 67,
     "metadata": {},
     "output_type": "execute_result"
    }
   ],
   "source": [
    "pd.value_counts(df_15['Health_Grade'])"
   ]
  },
  {
   "cell_type": "code",
   "execution_count": 73,
   "metadata": {},
   "outputs": [
    {
     "name": "stdout",
     "output_type": "stream",
     "text": [
      "(482507, 5)\n",
      "(584252, 7)\n"
     ]
    }
   ],
   "source": [
    "print(df_95.shape)\n",
    "print(df_05.shape)\n",
    "#print(df_15.shape)"
   ]
  },
  {
   "cell_type": "code",
   "execution_count": 71,
   "metadata": {},
   "outputs": [
    {
     "data": {
      "text/html": [
       "<div>\n",
       "<style scoped>\n",
       "    .dataframe tbody tr th:only-of-type {\n",
       "        vertical-align: middle;\n",
       "    }\n",
       "\n",
       "    .dataframe tbody tr th {\n",
       "        vertical-align: top;\n",
       "    }\n",
       "\n",
       "    .dataframe thead th {\n",
       "        text-align: right;\n",
       "    }\n",
       "</style>\n",
       "<table border=\"1\" class=\"dataframe\">\n",
       "  <thead>\n",
       "    <tr style=\"text-align: right;\">\n",
       "      <th></th>\n",
       "      <th>Living_Status</th>\n",
       "      <th>Health_Grade</th>\n",
       "      <th>Latin_Name</th>\n",
       "      <th>Common_Name</th>\n",
       "      <th>Zip_Code</th>\n",
       "      <th>Neighborhood</th>\n",
       "      <th>Borough_Name</th>\n",
       "    </tr>\n",
       "  </thead>\n",
       "  <tbody>\n",
       "    <tr>\n",
       "      <td>0</td>\n",
       "      <td>Alive</td>\n",
       "      <td>Fair</td>\n",
       "      <td>Acer rubrum</td>\n",
       "      <td>red maple</td>\n",
       "      <td>11375</td>\n",
       "      <td>Forest Hills</td>\n",
       "      <td>Queens</td>\n",
       "    </tr>\n",
       "    <tr>\n",
       "      <td>1</td>\n",
       "      <td>Alive</td>\n",
       "      <td>Fair</td>\n",
       "      <td>Quercus palustris</td>\n",
       "      <td>pin oak</td>\n",
       "      <td>11357</td>\n",
       "      <td>Whitestone</td>\n",
       "      <td>Queens</td>\n",
       "    </tr>\n",
       "  </tbody>\n",
       "</table>\n",
       "</div>"
      ],
      "text/plain": [
       "  Living_Status Health_Grade         Latin_Name Common_Name  Zip_Code  \\\n",
       "0         Alive         Fair        Acer rubrum   red maple     11375   \n",
       "1         Alive         Fair  Quercus palustris     pin oak     11357   \n",
       "\n",
       "   Neighborhood Borough_Name  \n",
       "0  Forest Hills       Queens  \n",
       "1    Whitestone       Queens  "
      ]
     },
     "execution_count": 71,
     "metadata": {},
     "output_type": "execute_result"
    }
   ],
   "source": [
    "df_15.head(2)"
   ]
  },
  {
   "cell_type": "code",
   "execution_count": 72,
   "metadata": {},
   "outputs": [
    {
     "data": {
      "text/plain": [
       "Alive    652173\n",
       "Stump     17654\n",
       "Dead      13961\n",
       "Name: Living_Status, dtype: int64"
      ]
     },
     "execution_count": 72,
     "metadata": {},
     "output_type": "execute_result"
    }
   ],
   "source": [
    "pd.value_counts(df_15['Living_Status'])\n",
    "# Alive    652173 - this will be our number for tree count for 2015"
   ]
  },
  {
   "cell_type": "code",
   "execution_count": null,
   "metadata": {},
   "outputs": [],
   "source": []
  }
 ],
 "metadata": {
  "kernelspec": {
   "display_name": "Python 3",
   "language": "python",
   "name": "python3"
  },
  "language_info": {
   "codemirror_mode": {
    "name": "ipython",
    "version": 3
   },
   "file_extension": ".py",
   "mimetype": "text/x-python",
   "name": "python",
   "nbconvert_exporter": "python",
   "pygments_lexer": "ipython3",
   "version": "3.7.4"
  }
 },
 "nbformat": 4,
 "nbformat_minor": 2
}
